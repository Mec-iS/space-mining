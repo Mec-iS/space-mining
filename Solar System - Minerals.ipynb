{
 "cells": [
  {
   "cell_type": "code",
   "execution_count": 2,
   "metadata": {
    "collapsed": false
   },
   "outputs": [
    {
     "name": "stdout",
     "output_type": "stream",
     "text": [
      "{b'Aluminium': array([  2.08000000e+21,   8.00000000e+00,   4.50000000e+12]),\n",
      " b'Boron': array([  1.20000000e+15,   2.79000000e-18,   5.00000000e-08]),\n",
      " b'Chlorine': array([  3.38000000e+15,   9.91000000e-19,   1.00000000e-09]),\n",
      " b'Chromium': array([  1.70000000e+15,   1.97000000e-18,   1.00000000e-09]),\n",
      " b'Iron': array([  1.30000000e+21,   5.00000000e+00,   1.10000000e+14]),\n",
      " b'Magnesium': array([  5.46000000e+20,   2.10000000e+00,   7.50000000e+09]),\n",
      " b'Manganese': array([  1.66900000e+16,   2.01000000e-19,   1.00000000e-07]),\n",
      " b'Nickel': array([  1.50000000e+15,   2.23000000e-18,   1.00000000e-09]),\n",
      " b'Potassium': array([  7.28000000e+20,   2.80000000e+00,   3.40000000e+09]),\n",
      " b'Silicon': array([  7.02000000e+21,   2.70000000e+01,   7.60000000e+11]),\n",
      " b'Sodium': array([  6.76000000e+20,   2.60000000e+00,   2.80000000e+13]),\n",
      " b'Titanium': array([  1.69000000e+16,   6.50000000e-07,   6.50000000e+11]),\n",
      " b'Zinc': array([  1.05000000e+15,   3.19000000e-18,   7.00000000e-10])}\n"
     ]
    }
   ],
   "source": [
    "total_mass_of_ss = 2.7 * 1e27\n",
    "total_mass_of_terrestrial = 1.18 * 1e25\n",
    "total_mass_of_gas_planets =  2.26 * 1e27\n",
    "total_mass_of_minor_bodies = 4.282 * 1e26\n",
    "\n",
    "earth_mass = 5.972 * 1e24\n",
    "earth_crust_mass = 0.026 * 1e24\n",
    "\n",
    "mass_crust_ratio = earth_crust_mass / earth_mass\n",
    "crust_reachable = 0.25\n",
    "\n",
    "#import scipy as sp\n",
    "import numpy as np\n",
    "from pprint import pprint as pp\n",
    "\n",
    "labels = np.genfromtxt(\"minerals.csv\", delimiter=',', usecols=0, dtype=\"|S10\", skip_header=1)\n",
    "symbols = np.genfromtxt(\"minerals.csv\", delimiter=',', usecols=1, dtype=\"|S10\", skip_header=1)\n",
    "raw_data = np.genfromtxt(\"minerals.csv\", delimiter=',', skip_header=1)[:,2:]\n",
    "data = {label: row for label, row in zip(labels, raw_data)}\n",
    "\n",
    "pp(data)"
   ]
  }
 ],
 "metadata": {
  "kernelspec": {
   "display_name": "Python 3",
   "language": "python",
   "name": "python3"
  },
  "language_info": {
   "codemirror_mode": {
    "name": "ipython",
    "version": 3
   },
   "file_extension": ".py",
   "mimetype": "text/x-python",
   "name": "python",
   "nbconvert_exporter": "python",
   "pygments_lexer": "ipython3",
   "version": "3.6.0"
  }
 },
 "nbformat": 4,
 "nbformat_minor": 2
}
