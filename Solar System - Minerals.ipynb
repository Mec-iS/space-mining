{
 "cells": [
  {
   "cell_type": "markdown",
   "metadata": {},
   "source": [
    "# Quantitative resume of masses in the Solar System"
   ]
  },
  {
   "cell_type": "markdown",
   "metadata": {},
   "source": [
    "### Esteemation of masses in the Solar System, excluding Sun and Earth"
   ]
  },
  {
   "cell_type": "markdown",
   "metadata": {},
   "source": [
    "**Type of bodies considered:**\n",
    "   * Terrestrial planets\n",
    "   * First 1500 minor planets\n",
    "   * Other small bodies: asteroids, comets, meteroids"
   ]
  },
  {
   "cell_type": "code",
   "execution_count": 8,
   "metadata": {
    "collapsed": false
   },
   "outputs": [
    {
     "name": "stdout",
     "output_type": "stream",
     "text": [
      "2.784600000000035e+27\n",
      "8.460000000003548e+25\n",
      "Total mass minable in terrestrial planets: Kg  7.611922304085731e+21\n",
      "Minable mass of minor planets: Kg  7.050767414403778e+20\n",
      "Minable mass of small bodies: Kg  3.8537365430932704e+26\n"
     ]
    }
   ],
   "source": [
    "# All masses are in kilograms\n",
    "import pandas as pd\n",
    "import numpy as np\n",
    "\n",
    "#\n",
    "# Base data\n",
    "#\n",
    "total_mass_sun = 1.989 * 1e30                   # total mass of the Sun\n",
    "total_mass_of_ss = total_mass_sun * 1.0014      # total mass of the S.S.: 1.991784 e+30\n",
    "total_mass_non_sun = total_mass_of_ss - total_mass_sun   # the mass of the rest of the system is 0,14% of the total\n",
    "print(total_mass_non_sun)\n",
    "\n",
    "total_mass_of_terrestrial = 1.18 * 1e25\n",
    "total_mass_of_gas_planets =  2.26 * 1e27\n",
    "total_mass_of_minor_bodies = 4.282 * 1e26\n",
    "\n",
    "total_non_sun = total_mass_of_terrestrial + total_mass_of_gas_planets + total_mass_of_minor_bodies\n",
    "total_dust_and_other = total_mass_non_sun - total_non_sun   # moons, asteroids, comets\n",
    "print(total_dust_and_other)\n",
    "\n",
    "\n",
    "earth_mass = 5.972 * 1e24\n",
    "earth_crust_mass = 0.026 * 1e24\n",
    "crust_over_mass_ratio = earth_crust_mass / earth_mass\n",
    "#print('Percentage of crust over total mass: % ', mass_crust_ratio)\n",
    "\n",
    "#\n",
    "# optimistically consider that we can mine 30% of the crust of a planet's crust\n",
    "#\n",
    "crust_reachable = 0.3 * crust_over_mass_ratio\n",
    "#print('Percentage of a terretrial planet minable: %', crust_reachable)\n",
    "\n",
    "#\n",
    "# total minable in terrestrial planets (excluding Earth)\n",
    "#\n",
    "total_minable_in_terrestrial = (total_mass_of_terrestrial - earth_mass) * crust_reachable\n",
    "print('Total mass minable in terrestrial planets: Kg ', total_minable_in_terrestrial)\n",
    "\n",
    "#\n",
    "# optimistically consider that we can mine 10% of a minor planet\n",
    "#\n",
    "minor_planets_minable_esteem =  0.1\n",
    "total_mass_minor_planets = earth_mass / 847   # first 1549 minor planets\n",
    "total_mass_minable_minor_planets = total_mass_minor_planets * minor_planets_minable_esteem\n",
    "print('Minable mass of minor planets: Kg ', total_mass_minable_minor_planets)\n",
    "\n",
    "#\n",
    "# optimistically consider that we can mine 90% of a small body\n",
    "#\n",
    "small_bodies_minable_esteem =  0.9\n",
    "total_mass_small_bodies = total_mass_of_minor_bodies - total_mass_minor_planets\n",
    "total_mass_minable_small_bodies = total_mass_small_bodies * small_bodies_minable_esteem\n",
    "print('Minable mass of small bodies: Kg ', total_mass_minable_small_bodies)\n",
    "\n",
    "\n",
    "\n"
   ]
  },
  {
   "cell_type": "markdown",
   "metadata": {},
   "source": [
    "### Composition of minerals in Earth's crust"
   ]
  },
  {
   "cell_type": "markdown",
   "metadata": {},
   "source": [
    "**For every element:** \n",
    "```\n",
    "array[\n",
    "    total mass in crust, \n",
    "    percentage on total crust, \n",
    "    esteemed 100 years consumption\n",
    "]```"
   ]
  },
  {
   "cell_type": "code",
   "execution_count": 27,
   "metadata": {
    "collapsed": false
   },
   "outputs": [
    {
     "name": "stdout",
     "output_type": "stream",
     "text": [
      "{b'Al': array([  2.08000000e+21,   8.00000000e+00,   4.50000000e+12]),\n",
      " b'B': array([  1.20000000e+15,   2.79000000e-18,   5.00000000e-08]),\n",
      " b'Ch': array([  1.70000000e+15,   1.97000000e-18,   1.00000000e-09]),\n",
      " b'Cl': array([  3.38000000e+15,   9.91000000e-19,   1.00000000e-09]),\n",
      " b'Fe': array([  1.30000000e+21,   5.00000000e+00,   1.10000000e+14]),\n",
      " b'K': array([  7.28000000e+20,   2.80000000e+00,   3.40000000e+09]),\n",
      " b'Mg': array([  5.46000000e+20,   2.10000000e+00,   7.50000000e+09]),\n",
      " b'Mn': array([  1.66900000e+16,   2.01000000e-19,   1.00000000e-07]),\n",
      " b'Na': array([  6.76000000e+20,   2.60000000e+00,   2.80000000e+13]),\n",
      " b'Ni': array([  1.50000000e+15,   2.23000000e-18,   1.00000000e-09]),\n",
      " b'Si': array([  7.02000000e+21,   2.70000000e+01,   7.60000000e+11]),\n",
      " b'Ti': array([  1.69000000e+16,   6.50000000e-07,   6.50000000e+11]),\n",
      " b'Zn': array([  1.05000000e+15,   3.19000000e-18,   7.00000000e-10])}\n"
     ]
    }
   ],
   "source": [
    "#import scipy as sp\n",
    "from pprint import pprint as pp\n",
    "\n",
    "labels = np.genfromtxt(\"minerals.csv\", delimiter=',', usecols=0, dtype=\"|S10\", skip_header=1)\n",
    "symbols = np.genfromtxt(\"minerals.csv\", delimiter=',', usecols=1, dtype=\"|S10\", skip_header=1)\n",
    "raw_data = np.genfromtxt(\"minerals.csv\", delimiter=',', skip_header=1)[:,2:]\n",
    "data = {label: row for label, row in zip(symbols, raw_data)}\n",
    "\n",
    "pp(data)"
   ]
  },
  {
   "cell_type": "markdown",
   "metadata": {},
   "source": [
    "### Applying data to a game design"
   ]
  },
  {
   "cell_type": "markdown",
   "metadata": {},
   "source": [
    "**The data above can be the background for a gaming scenario in which players allocate a budget to mine the chemical elements present in a simulated system.**"
   ]
  },
  {
   "cell_type": "markdown",
   "metadata": {},
   "source": [
    "**Starting data for a gaming scenario:**"
   ]
  },
  {
   "cell_type": "markdown",
   "metadata": {},
   "source": [
    "* consider only planets from Mercury to Asteroids Belts (terrestrial planet)\n",
    "* calculate distances from Earth in AU"
   ]
  },
  {
   "cell_type": "code",
   "execution_count": 86,
   "metadata": {
    "collapsed": false
   },
   "outputs": [
    {
     "name": "stdout",
     "output_type": "stream",
     "text": [
      "0.00130609511051574\n"
     ]
    },
    {
     "data": {
      "text/html": [
       "<div>\n",
       "<table border=\"1\" class=\"dataframe\">\n",
       "  <thead>\n",
       "    <tr style=\"text-align: right;\">\n",
       "      <th></th>\n",
       "      <th>from-Earth-AU-max</th>\n",
       "      <th>from-Earth-AU-min</th>\n",
       "      <th>mass-kg</th>\n",
       "      <th>minable-kg</th>\n",
       "    </tr>\n",
       "  </thead>\n",
       "  <tbody>\n",
       "    <tr>\n",
       "      <th>Mercury</th>\n",
       "      <td>1.47</td>\n",
       "      <td>0.69</td>\n",
       "      <td>3.285000e+23</td>\n",
       "      <td>4.290522e+20</td>\n",
       "    </tr>\n",
       "    <tr>\n",
       "      <th>Venus</th>\n",
       "      <td>1.73</td>\n",
       "      <td>0.28</td>\n",
       "      <td>4.867000e+24</td>\n",
       "      <td>6.356765e+21</td>\n",
       "    </tr>\n",
       "    <tr>\n",
       "      <th>NEO</th>\n",
       "      <td>0.15</td>\n",
       "      <td>0.00</td>\n",
       "      <td>3.227500e+08</td>\n",
       "      <td>3.066125e+08</td>\n",
       "    </tr>\n",
       "    <tr>\n",
       "      <th>Mars</th>\n",
       "      <td>2.67</td>\n",
       "      <td>0.38</td>\n",
       "      <td>6.390000e+23</td>\n",
       "      <td>8.345948e+20</td>\n",
       "    </tr>\n",
       "    <tr>\n",
       "      <th>Asteroids Belt</th>\n",
       "      <td>5.20</td>\n",
       "      <td>0.78</td>\n",
       "      <td>3.200000e+21</td>\n",
       "      <td>3.040000e+21</td>\n",
       "    </tr>\n",
       "  </tbody>\n",
       "</table>\n",
       "</div>"
      ],
      "text/plain": [
       "                from-Earth-AU-max  from-Earth-AU-min       mass-kg  \\\n",
       "Mercury                      1.47               0.69  3.285000e+23   \n",
       "Venus                        1.73               0.28  4.867000e+24   \n",
       "NEO                          0.15               0.00  3.227500e+08   \n",
       "Mars                         2.67               0.38  6.390000e+23   \n",
       "Asteroids Belt               5.20               0.78  3.200000e+21   \n",
       "\n",
       "                  minable-kg  \n",
       "Mercury         4.290522e+20  \n",
       "Venus           6.356765e+21  \n",
       "NEO             3.066125e+08  \n",
       "Mars            8.345948e+20  \n",
       "Asteroids Belt  3.040000e+21  "
      ]
     },
     "execution_count": 86,
     "metadata": {},
     "output_type": "execute_result"
    }
   ],
   "source": [
    "index = ['Mercury', 'Venus', 'NEO', 'Mars', 'Asteroids Belt']\n",
    "terrestrial = ['Mercury', 'Venus', 'Mars']\n",
    "print(crust_reachable)\n",
    "\n",
    "s = {\n",
    "    'from-Earth-AU-min': pd.Series(\n",
    "        [1 - 0.31, 1 - 0.72, 0, 1.38 - 1, 1.78 - 1], index=index),\n",
    "    'from-Earth-AU-max': pd.Series(\n",
    "        [1 - 0.47, 1 - 0.73, 0.15, 1.67 - 1, 4.2 - 1], index=index),\n",
    "    'mass-kg': pd.Series(\n",
    "        [3.285e23, 4.867e24, 3.2275e8, 6.39e23, 3.2e21], \n",
    "        index=index)\n",
    "    }\n",
    "\n",
    "s['minable-kg'] = pd.Series(\n",
    "        [s['mass-kg'][i] * crust_reachable if i in terrestrial else s['mass-kg'][i] * 0.95 for i in index], \n",
    "        index=index)\n",
    "\n",
    "s = pd.DataFrame(s)\n",
    "s"
   ]
  },
  {
   "cell_type": "markdown",
   "metadata": {},
   "source": [
    "**DISTRIBUTION BY REACH FROM EARTH**\n",
    "\n",
    "How the masses are distributed in AU from Earth considering the table above."
   ]
  },
  {
   "cell_type": "code",
   "execution_count": 92,
   "metadata": {
    "collapsed": false
   },
   "outputs": [
    {
     "name": "stdout",
     "output_type": "stream",
     "text": [
      "[0.0, 0.05, 0.1, 0.15, 0.2, 0.25, 0.27, 0.28, 0.29, 0.34, 0.38, 0.43, 0.48, 0.53, 0.58, 0.63, 0.53, 0.58, 0.63, 0.68, 0.7, 0.75, 0.78, 0.83, 0.88, 0.93, 0.98, 1.03, 1.08, 1.13, 1.18, 1.23, 1.28, 1.33, 1.38, 1.43, 1.48, 1.53, 1.58, 1.63, 1.68, 1.73, 1.78, 1.83, 1.88, 1.93, 1.98, 2.03, 2.08, 2.13, 2.18, 2.23, 2.28, 2.33, 2.38, 2.43, 2.48, 2.53, 2.58, 2.63, 2.68, 2.73, 2.78, 2.83, 2.88, 2.93, 2.98, 3.03, 3.08, 3.13, 3.18]\n"
     ]
    }
   ],
   "source": [
    "from decimal import getcontext, Decimal, ROUND_UP\n",
    "getcontext().prec = 3\n",
    "def dec(i): return round(float(Decimal(i)), 3)\n",
    "CLICK = 0.05\n",
    "\n",
    "# full range from Mercury to Asteroids Belt is divided in 8 legs\n",
    "clicks = []\n",
    "# NEO: Near Earth Orbit\n",
    "clicks += [dec(i) for i in np.arange(0, 0.155, CLICK)]\n",
    "# void space \n",
    "clicks += [dec(i) for i in np.arange(0.2, 0.265, CLICK)]\n",
    "# Venus\n",
    "clicks += [0.27, 0.28]\n",
    "# void space\n",
    "clicks += [dec(i) for i in np.arange(0.29, 0.375, CLICK)]\n",
    "# Mercury and Mars\n",
    "clicks += [dec(i) for i in np.arange(0.38, 0.675, CLICK)]\n",
    "clicks += [dec(i) for i in np.arange(0.53, 0.695, CLICK)]\n",
    "# void\n",
    "clicks += [dec(i) for i in np.arange(0.7, 0.775, CLICK)]\n",
    "# Asteroid Belt\n",
    "clicks += [dec(i) for i in np.arange(0.78, 3.205, CLICK)]\n",
    "         \n",
    "print(clicks)"
   ]
  },
  {
   "cell_type": "markdown",
   "metadata": {},
   "source": [
    "**Players technological levels:**"
   ]
  },
  {
   "cell_type": "code",
   "execution_count": 43,
   "metadata": {
    "collapsed": false
   },
   "outputs": [
    {
     "name": "stdout",
     "output_type": "stream",
     "text": [
      "[1, 2, 3, 4, 5, 6, 7, 8]\n"
     ]
    }
   ],
   "source": [
    "level = [i+1 for i in range(8)]\n",
    "\n",
    "d = {\n",
    "    \"reach-au\": pd.Series(\n",
    "        [], index=level),\n",
    "    \"mass-reachable-percent\": pd.Series([], index=level),\n",
    "    \"budget\": pd.Series([], index=level)\n",
    "    \n",
    "}"
   ]
  },
  {
   "cell_type": "markdown",
   "metadata": {},
   "source": [
    "<table>\n",
    "<tr><th>level</th><th>reach (AU)</th><th>% of mass reachable</th><th>budget (credits)</th></tr>\n",
    "<tr><td>1</td><td>0.002570694</td><td>0.000000001</td><td>1.00E+09</td></tr>\n",
    "<tr><td>2</td><td>0.1</td><td>-\t</td><td>-\t</td></tr>\n",
    "<tr><td>3</td><td>0.3</td><td>-\t</td><td>-\t</td></tr>\n",
    "<tr><td>4</td><td>0.4</td><td>-\t</td><td>-\t</td></tr>\n",
    "<tr><td>5</td><td>1</td><td>-\t</td><td>-\t</td></tr>\n",
    "<tr><td>6</td><td>2</td><td>-\t</td><td>-\t</td></tr>\n",
    "<tr><td>7</td><td>2.2</td><td>-\t</td><td>-\t</td></tr>\n",
    "<tr><td>8</td><td>3.2</td><td>-\t</td><td>-\t</td></tr>\n",
    "</table>"
   ]
  },
  {
   "cell_type": "code",
   "execution_count": null,
   "metadata": {
    "collapsed": true
   },
   "outputs": [],
   "source": [
    "\"\"\"\n",
    "Distance weighted by planets and aggregates oprbits\n",
    "\"\"\"\n",
    "index = ['Mercury', 'Venus', 'NEO', 'Mars', 'Asteroids Belt']\n",
    "terrestrial = ['Mercury', 'Venus', 'Mars']\n",
    "print(crust_reachable)\n",
    "\n",
    "s = {\n",
    "    'from-Earth-AU-min': pd.Series(\n",
    "        [1 - 0.31, 1 - 0.72, 0, 1.38 - 1, 1.78 - 1], index=index),\n",
    "    'from-Earth-AU-max': pd.Series(\n",
    "        [1 + 0.47, 1 + 0.73, 0.15, 1 + 1.67, 1 + 4.2], index=index),\n",
    "    'mass-kg': pd.Series(\n",
    "        [3.285e23, 4.867e24, 3.2275e8, 6.39e23, 3.2e21], \n",
    "        index=index)\n",
    "    }\n",
    "\n",
    "s['minable-kg'] = pd.Series(\n",
    "        [s['mass-kg'][i] * crust_reachable if i in terrestrial else s['mass-kg'][i] * 0.95 for i in index], \n",
    "        index=index)\n",
    "\n",
    "s = pd.DataFrame(s)\n",
    "s"
   ]
  }
 ],
 "metadata": {
  "kernelspec": {
   "display_name": "Python 3",
   "language": "python",
   "name": "python3"
  },
  "language_info": {
   "codemirror_mode": {
    "name": "ipython",
    "version": 3
   },
   "file_extension": ".py",
   "mimetype": "text/x-python",
   "name": "python",
   "nbconvert_exporter": "python",
   "pygments_lexer": "ipython3",
   "version": "3.5.2"
  }
 },
 "nbformat": 4,
 "nbformat_minor": 2
}
