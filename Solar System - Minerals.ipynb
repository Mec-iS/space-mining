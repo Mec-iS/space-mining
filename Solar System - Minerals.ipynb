{
 "cells": [
  {
   "cell_type": "markdown",
   "metadata": {},
   "source": [
    "# Quantitative resume of masses in the Solar System"
   ]
  },
  {
   "cell_type": "markdown",
   "metadata": {},
   "source": [
    "### Esteemation of masses in the Solar System, excluding Sun and Earth"
   ]
  },
  {
   "cell_type": "markdown",
   "metadata": {},
   "source": [
    "**Type of bodies considered:**\n",
    "   * Terrestrial planets\n",
    "   * First 1500 minor planets\n",
    "   * Other small bodies: asteroids, comets, meteroids"
   ]
  },
  {
   "cell_type": "code",
   "execution_count": 32,
   "metadata": {
    "collapsed": false
   },
   "outputs": [
    {
     "name": "stdout",
     "output_type": "stream",
     "text": [
      "2.784600000000035e+27\n",
      "8.460000000003548e+25\n",
      "Total mass minable in terrestrial planets: Kg  7.611922304085731e+21\n",
      "Minable mass of minor planets: Kg  2.9974e+26\n",
      "Minable mass of small bodies: Kg  3.8537365430932704e+26\n"
     ]
    }
   ],
   "source": [
    "# All masses are in kilograms\n",
    "\n",
    "#\n",
    "# Base data\n",
    "#\n",
    "total_mass_sun = 1.989 * 1e30                   # total mass of the Sun\n",
    "total_mass_of_ss = total_mass_sun * 1.0014      # total mass of the S.S.: 1.991784 e+30\n",
    "total_mass_non_sun = total_mass_of_ss - total_mass_sun   # the mass of the rest of the system is 0,14% of the total\n",
    "print(total_mass_non_sun)\n",
    "\n",
    "total_mass_of_terrestrial = 1.18 * 1e25\n",
    "total_mass_of_gas_planets =  2.26 * 1e27\n",
    "total_mass_of_minor_bodies = 4.282 * 1e26\n",
    "\n",
    "total_non_sun = total_mass_of_terrestrial + total_mass_of_gas_planets + total_mass_of_minor_bodies\n",
    "total_dust_and_other = total_mass_non_sun - total_non_sun\n",
    "print(total_dust_and_other)\n",
    "\n",
    "\n",
    "earth_mass = 5.972 * 1e24\n",
    "earth_crust_mass = 0.026 * 1e24\n",
    "crust_over_mass_ratio = earth_crust_mass / earth_mass\n",
    "#print('Percentage of crust over total mass: % ', mass_crust_ratio)\n",
    "\n",
    "#\n",
    "# optimistically consider that we can mine 30% of the crust of a planet's crust\n",
    "#\n",
    "crust_reachable = 0.3 * crust_over_mass_ratio\n",
    "#print('Percentage of a terretrial planet minable: %', crust_reachable)\n",
    "\n",
    "#\n",
    "# total minable in terrestrial planets (excluding Earth)\n",
    "#\n",
    "total_minable_in_terrestrial = (total_mass_of_terrestrial - earth_mass) * crust_reachable\n",
    "print('Total mass minable in terrestrial planets: Kg ', total_minable_in_terrestrial)\n",
    "\n",
    "#\n",
    "# optimistically consider that we can mine 10% of a minor planet\n",
    "#\n",
    "minor_planets_minable_esteem =  0.1\n",
    "total_mass_minor_planets = earth_mass / 847   # first 1549 minor planets\n",
    "total_mass_minable_minor_planets = total_mass_minor_planets * minor_planets_minable_esteem\n",
    "print('Minable mass of minor planets: Kg ', total_mass_minable_minor_bodies)\n",
    "\n",
    "#\n",
    "# optimistically consider that we can mine 90% of a small body\n",
    "#\n",
    "small_bodies_minable_esteem =  0.9\n",
    "total_mass_small_bodies = total_mass_of_minor_bodies - total_mass_minor_planets\n",
    "total_mass_minable_small_bodies = total_mass_small_bodies * small_bodies_minable_esteem\n",
    "print('Minable mass of small bodies: Kg ', total_mass_minable_small_bodies)\n",
    "\n",
    "\n",
    "\n"
   ]
  },
  {
   "cell_type": "markdown",
   "metadata": {},
   "source": [
    "### Composition of minerals in Earth's crust"
   ]
  },
  {
   "cell_type": "markdown",
   "metadata": {},
   "source": [
    "**For every element:** \n",
    "```\n",
    "array[\n",
    "    total mass in crust, \n",
    "    percentage on total crust, \n",
    "    esteemed 100 years consumption\n",
    "]```"
   ]
  },
  {
   "cell_type": "code",
   "execution_count": 29,
   "metadata": {
    "collapsed": false
   },
   "outputs": [
    {
     "name": "stdout",
     "output_type": "stream",
     "text": [
      "{b'Al': array([  2.08000000e+21,   8.00000000e+00,   4.50000000e+12]),\n",
      " b'B': array([  1.20000000e+15,   2.79000000e-18,   5.00000000e-08]),\n",
      " b'Ch': array([  1.70000000e+15,   1.97000000e-18,   1.00000000e-09]),\n",
      " b'Cl': array([  3.38000000e+15,   9.91000000e-19,   1.00000000e-09]),\n",
      " b'Fe': array([  1.30000000e+21,   5.00000000e+00,   1.10000000e+14]),\n",
      " b'K': array([  7.28000000e+20,   2.80000000e+00,   3.40000000e+09]),\n",
      " b'Mg': array([  5.46000000e+20,   2.10000000e+00,   7.50000000e+09]),\n",
      " b'Mn': array([  1.66900000e+16,   2.01000000e-19,   1.00000000e-07]),\n",
      " b'Na': array([  6.76000000e+20,   2.60000000e+00,   2.80000000e+13]),\n",
      " b'Ni': array([  1.50000000e+15,   2.23000000e-18,   1.00000000e-09]),\n",
      " b'Si': array([  7.02000000e+21,   2.70000000e+01,   7.60000000e+11]),\n",
      " b'Ti': array([  1.69000000e+16,   6.50000000e-07,   6.50000000e+11]),\n",
      " b'Zn': array([  1.05000000e+15,   3.19000000e-18,   7.00000000e-10])}\n"
     ]
    }
   ],
   "source": [
    "#import scipy as sp\n",
    "import numpy as np\n",
    "from pprint import pprint as pp\n",
    "\n",
    "labels = np.genfromtxt(\"minerals.csv\", delimiter=',', usecols=0, dtype=\"|S10\", skip_header=1)\n",
    "symbols = np.genfromtxt(\"minerals.csv\", delimiter=',', usecols=1, dtype=\"|S10\", skip_header=1)\n",
    "raw_data = np.genfromtxt(\"minerals.csv\", delimiter=',', skip_header=1)[:,2:]\n",
    "data = {label: row for label, row in zip(symbols, raw_data)}\n",
    "\n",
    "pp(data)"
   ]
  },
  {
   "cell_type": "markdown",
   "metadata": {},
   "source": [
    "### Applying this data to a game design"
   ]
  },
  {
   "cell_type": "markdown",
   "metadata": {},
   "source": [
    "**The data above can be the background for a gaming scenario in which players allocate a budget to mine the chemical elements present in a simulated system.**"
   ]
  },
  {
   "cell_type": "markdown",
   "metadata": {},
   "source": [
    "**Starting data for a gaming scenario:**"
   ]
  },
  {
   "cell_type": "markdown",
   "metadata": {},
   "source": [
    "<table>\n",
    "<tr><th>**SYSTEM's TOTALS**</th><th>Kg</th></tr>\n",
    "<tr><td>Minable mass for terrestrials</td><td>7.61E+21</td></tr>\n",
    "<tr><td>Minable mass for small bodies</td><td>3.85E+26</td></tr>\n",
    "<tr><td>Minable mass for minor planets (~1500)</td><td>3.00E+26</td></tr>\n",
    "</table>"
   ]
  },
  {
   "cell_type": "markdown",
   "metadata": {},
   "source": [
    "**Players technological levels:**\n",
    "\n",
    "**DISTRIBUTION BY PLAYER'S LEVEL (REACH)**"
   ]
  },
  {
   "cell_type": "markdown",
   "metadata": {},
   "source": [
    "<table>\n",
    "<tr><th>level</th><th>reach (AU)</th><th>% of mass reachable</th><th>budget (credits)</th></tr>\n",
    "<tr><td>1</td><td>0.002570694</td><td>0.000000001</td><td>1.00E+09</td></tr>\n",
    "<tr><td>2</td><td>0.1</td><td>-\t</td><td>-\t</td></tr>\n",
    "<tr><td>3</td><td>0.3</td><td>-\t</td><td>-\t</td></tr>\n",
    "<tr><td>4</td><td>0.4</td><td>-\t</td><td>-\t</td></tr>\n",
    "<tr><td>5</td><td>1</td><td>-\t</td><td>-\t</td></tr>\n",
    "<tr><td>6</td><td>2</td><td>-\t</td><td>-\t</td></tr>\n",
    "<tr><td>7</td><td>3</td><td>-\t</td><td>-\t</td></tr>\n",
    "<tr><td>8</td><td>10</td><td>-\t</td><td>-\t</td></tr>\n",
    "<tr><td>9</td><td>30</td><td>-\t</td><td>-\t</td></tr>\n",
    "<tr><td>10</td><td>122</td><td>-\t</td><td>-\t</td></tr>\n",
    "</table>"
   ]
  }
 ],
 "metadata": {
  "kernelspec": {
   "display_name": "Python 3",
   "language": "python",
   "name": "python3"
  },
  "language_info": {
   "codemirror_mode": {
    "name": "ipython",
    "version": 3
   },
   "file_extension": ".py",
   "mimetype": "text/x-python",
   "name": "python",
   "nbconvert_exporter": "python",
   "pygments_lexer": "ipython3",
   "version": "3.6.0"
  }
 },
 "nbformat": 4,
 "nbformat_minor": 2
}
